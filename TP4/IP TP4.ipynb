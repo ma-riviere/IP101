{
 "cells": [
  {
   "cell_type": "markdown",
   "metadata": {},
   "source": [
    "***\n",
    "# TP4 : Filtrage (continuation)\n",
    "***\n",
    "\n",
    "**Plan :**"
   ]
  },
  {
   "cell_type": "markdown",
   "metadata": {},
   "source": [
    "# I. Filtrage en fréquence\n",
    "\n",
    "Le traitement local d’une image  utilise la notion de filtre. Ces filtres peuvent s’écrire sous la forme d’un produit de convolution entre une matrice (ou noyau de convolution) et d’une image. Malheureusement,  en  appliquant  de  gros  masques  de  convolution,  on  peut  constater  que  le  temps  de  calcul  devient  très  important,  Pour  cela,  on  peut  appliquer  les  masques  dans  l’espace  des  fonctions  de  Fourier  qui  rendront  les  calculs  beaucoup  plus  rapides  car  il  existe  un  algorithme  de  calcul  de  la  transformée très rapide (FFT). \n",
    "\n",
    "La  fréquence  dans  une  image  représente  la  variation  de  l’intensité  des  pixels  de  l’image,  les  basses  fréquences  (correspondent  à  des  changements  d’intensité  lents)  représentent  les  régions  homogènes  et  floues,   tandis   que   les   hautes   fréquences   (correspondent   à   des   changements   d’intensité   rapides)   représentent les contours et les  changements brusques d’intensité. \n",
    "\n",
    "**Référence** https://elearn.univ-ouargla.dz/2013-2014/courses/TI/document/Cours/Image_Chap04.pdf?cidReq=TI\n",
    "\n",
    "<img src=\"https://plus.maths.org/content/sites/plus.maths.org/files/articles/2017/carola/Plus-FT.jpg\">\n",
    "\n",
    "<img src=\"https://plus.maths.org/content/sites/plus.maths.org/files/articles/2017/carola/Plus45-FT.jpg\">\n",
    "\n",
    "\n",
    "Dans ce partie de TP on abordera les problèmes de représentation et de filtrage\n",
    "(dans le domaine spatial et dans le domaine transformé) (passe-bas et passe haut).  \n",
    "\n",
    "On utilisera donc à nouveau Python, avec les bibliothèques scientifiques scipy et numpy, ainsi que les modules `scipy.signal` et `scipy.ndimage.` Quelques indications sur les commandes et les fonctions\n",
    "utiles sont fournis dans l'énoncé. Pour le reste, il vous faudra utiliser l'enseignant\n",
    "et la documentation en ligne.\n"
   ]
  },
  {
   "cell_type": "markdown",
   "metadata": {},
   "source": [
    "Pour faciliter vos tâches, vous pouvez vous servire des fonctions suivants:\n",
    "\n",
    "  ` \n",
    "    rect2 -- crée un rectangle centré en 2D\n",
    "    filtre_passebande_2d -- crée un filtre passe-bande en 2D (dans le domaine fréquentiel)\n",
    "    showfft2 -- affiche une image d'une TF 2D, correctement centrée et normalisée\n",
    "    mesh -- affiche une représentation ``3D'' d'un objet\n",
    "`\n",
    "\n",
    "**Rappel**\n",
    "\n",
    "Pour lire un fichier image, vous utiliserez la fonction `imread`\n",
    "\n",
    "Pour afficher une image en niveaux de gris, vous pourrez utiliser \n",
    "\n",
    "``\n",
    "        imshow(S,cmap='gray',origin='upper')\n",
    "``"
   ]
  },
  {
   "cell_type": "code",
   "execution_count": null,
   "metadata": {},
   "outputs": [],
   "source": [
    "from __future__ import division\n",
    "from __future__ import print_function\n",
    "import cv2\n",
    "from pylab import *\n",
    "import matplotlib.pyplot as plt\n",
    "from scipy import ndimage as ndi\n",
    "from scipy import signal\n",
    "from numpy.fft import fft, ifft, fft2, ifft2\n",
    "from scipy.ndimage import convolve as convolvend\n",
    "# pour les représentations 3D\n",
    "from mpl_toolkits.mplot3d.axes3d import Axes3D"
   ]
  },
  {
   "cell_type": "code",
   "execution_count": null,
   "metadata": {},
   "outputs": [],
   "source": [
    "## Fonctions utils\n",
    "# ============\n",
    "\n",
    "def isodd(num):\n",
    "        return num & 1 and True or False\n",
    "# or num%2==1        \n",
    "\n",
    "## \n",
    "#def rect2(L,N):\n",
    "#    \"\"\" Rend un rectangle de taille (2L+1)x(2L+1) \\n\n",
    "#    centré sur une dimension totale de NxN\"\"\"\n",
    "#    x=zeros((N,N))\n",
    "#    milieu=(int((N+1)/2),int((N+1)/2)) if isodd(N) else (int((N)/2+1),int((N)/2+1))\n",
    "#    print (milieu)\n",
    "#    x[milieu[0]-L:milieu[0]+L+1,milieu[1]-L:milieu[1]+L+1]=1    \n",
    "#    return x\n",
    "\n",
    "## \n",
    "def rect2(L,N):\n",
    "    \"\"\" Rend un rectangle de taille (2L+1)x(2L+1) \\n\n",
    "    centré sur une dimension totale de NxN\"\"\"\n",
    "    x=zeros((N,N))\n",
    "    milieu=((N+1)/2,(N+1)/2) if isodd(N) else ((N)/2+1,(N)/2+1)\n",
    "    print(milieu)\n",
    "    x[int(milieu[0])-L:int(milieu[0])+L+1,int(milieu[1])-L:int(milieu[1])+L+1]=1    \n",
    "    return x\n",
    "\n",
    "\n",
    "def filtre_passebande_2d(centre,largeur,dimension_totale):    \n",
    "    \"\"\" Retourne la réponse en fréquence d'un filtre passe-bande\n",
    "    centré sur `centre`, de demi-largeur **largeur** et symétrisé \n",
    "    en fréquence (le zéro est placé au centre de l'image en f)\\n\n",
    "    centre : fréquence centrale du filtre passe-bande (en points) -- les fréquences \n",
    "    normalisées correspondantes sont ainsi centre/(dimension_totale/2) \\n\n",
    "    largeur :  demi-bande de fréquence (en points) du filtre passe-bande\\n\n",
    "    dimension_totale : dimension de l'image\\n \n",
    "    Auteur : jfb\"\"\"\n",
    "    N=dimension_totale    \n",
    "    milieu=((N+1)/2,(N+1)/2) if isodd(N) else ((N)/2+1,(N)/2+1)\n",
    "    # \n",
    "    H=zeros((N,N))    \n",
    "    H[int(milieu[0])+centre[0]-largeur:int(milieu[0])+centre[0]+largeur+1,int(milieu[1])+centre[1]-largeur:int(milieu[1])+centre[1]+largeur+1]=1    \n",
    "    centre=-array(centre)  # Le symétrique en fréquence\n",
    "    H[int(milieu[0])+centre[0]-largeur:int(milieu[0])+centre[0]+largeur+1,int(milieu[1])+centre[1]-largeur:int(milieu[1])+centre[1]+largeur+1]=1    \n",
    "    return H\n",
    "    \n",
    "## représentation en fréquence 2D\n",
    "def showfft2(X,Zero='uncentered', Freq='normalized', num=None,cmap='hot'):\n",
    "    \"\"\"Affiche une image, dans le domaine de Fourier 2D, \\n\n",
    "    la représentation étant centrée et en fréquences réduites\\n\n",
    "    **/!\\\\  la fonction *showfft2* **ne calcule pas la TF**. Les données passées sont sensées être des données fréquentielles\\n\n",
    "    Paramètres :\n",
    "    -----------\n",
    "        X : données 2D dans le domaine de Fourier \\n\n",
    "        Num: numéro de figure (optionnel)\\n\n",
    "        Zero='uncentered' par défaut, la TF passée est supposée non centrée et un fftshift est appliqué\\n\n",
    "        Freq='normalized' par défaut; sinon on trace en points \\n\n",
    "    ``Auteur: jfb``\n",
    "    \"\"\"\n",
    "    N,M=shape(X)\n",
    "    figure(num)\n",
    "    if Zero!='centered':\n",
    "        X=fftshift(X)\n",
    "    if Freq=='normalized':\n",
    "        extent=(-0.5, 0.5, -0.5, 0.5)\n",
    "    else:\n",
    "        extent=(-N/2, N/2, -N/2, N/2)\n",
    "    im=imshow(X,aspect='auto',origin='lower', extent=extent, cmap=cmap)    \n",
    "    if Freq=='normalized':   \n",
    "        ticks=arange(-0.5,0.6,0.1)\n",
    "        plt.xticks(ticks)\n",
    "        plt.yticks(ticks)\n",
    "    colorbar()\n",
    "  \n",
    "\n",
    "   \n",
    "def mesh(obj3D,numfig=None,subplt=(1,1,1),cmap='hot'):\n",
    "    \"\"\"\n",
    "    Emule le mesh de matlab : trace \n",
    "    une représentaion en 2.5D \\n\n",
    "    de l'objet obj3D\n",
    "    Auteur: jfb\n",
    "    \"\"\"\n",
    "    fig = plt.figure(numfig)\n",
    "    ax = fig.add_subplot(subplt[0],subplt[1],subplt[2], projection='3d')\n",
    "    m,n=shape(obj3D)\n",
    "    mm=range(m)\n",
    "    nn=range(n)\n",
    "    X,Y=meshgrid(mm,nn)\n",
    "    ax.plot_surface(X, Y, obj3D, rstride=max([round(m/50), 1]), cstride=max([round(n/50), 1]), cmap=cmap)\n",
    "    \n",
    "def saltpepper(percent=85,shape=None):\n",
    "        s=numpy.random.random(size=shape)\n",
    "        d=where(s>percent/100)\n",
    "        out=ones(shape=shape)\n",
    "        out[d]=0\n",
    "        return out\n"
   ]
  },
  {
   "cell_type": "markdown",
   "metadata": {},
   "source": [
    "# Représentation fréquentielle\n",
    "\n",
    "## Une petite sinusoïde"
   ]
  },
  {
   "cell_type": "markdown",
   "metadata": {},
   "source": [
    "### **[Exercice 1]** A vous de jouer:   \n",
    "1. Créez une image $N\\times N$ (par exemple $512\\times 512$) pour la quelle:\n",
    "  * Affectez les valeurs des pixels selon l'équation $f(x,y) = \\sin(2\\pi (f_x x+f_y y))$ avec $f_x$ et $f_y$ choisis entre 0.02 à 0.2\n",
    "\n",
    "2. Visualisez l'image résultante en couleurs (map de chaleur) en utilisant \n",
    "\n",
    "```python\n",
    "                        imshow(image,cmap='hot',origin='upper')\n",
    "```\n",
    "<img src=\"img/sinWave.png\" width=\"150\" height=\"150\"> \n",
    "\n",
    "3. Utilisez la fonction `showfft2` pour calculer et visualiser la representation fréquentielle de l' image crée\n",
    "```python \n",
    "                           showfft2(abs(fft2(image)),num=4)\n",
    "```\n",
    "\n",
    "            <img src=\"img/fft_sinWave.png\" width=\"150\" height=\"150\"> \n",
    "\n",
    "\n",
    "4. Avec 3 valeurs differents de $f_x$ et $f_y$ de votre choix, visualiser la représentation fréquentielle de l'image crée, Que observez vous?\n",
    "    \n",
    "5. Chargez l'image de Barbara, par `imread('barbara.png')` et visualisez la.\n",
    "6. Visualisez la représentation en fréquence `showfft2` , en échelle logarithmique (prendre `log(abs())`!)\n",
    "\n",
    "    * pour visualiser la représentation fréquenctiel (comme l'exemple en-dessus) avec une map des coleurs utilsiez\n",
    "```python\n",
    "            imshow(image,cmap='hot',origin='upper')\n",
    "```\n",
    "\n",
    "<img src=\"img/barbara.png\" width=\"150\" height=\"150\"> \n",
    "<img src=\"img/fft_barbara.png\" width=\"150\" height=\"150\"> "
   ]
  },
  {
   "cell_type": "code",
   "execution_count": null,
   "metadata": {},
   "outputs": [],
   "source": [
    "# > Emplacement exercice <\n"
   ]
  },
  {
   "cell_type": "markdown",
   "metadata": {},
   "source": [
    "# Filtrage en fréquence "
   ]
  },
  {
   "cell_type": "markdown",
   "metadata": {},
   "source": [
    "On peut réaliser une transformée de Fourier sur une image en utilisant la méthode de transformée de Fourier rapide de Numpy en dimension 2 : numpy.fft.fft2."
   ]
  },
  {
   "cell_type": "markdown",
   "metadata": {},
   "source": [
    "## Filtre passe-bas"
   ]
  },
  {
   "cell_type": "code",
   "execution_count": null,
   "metadata": {},
   "outputs": [],
   "source": [
    "from pylab import *\n",
    "\n",
    "B=imread('img/barbara.png')\n",
    "figure(1)\n",
    "imshow(B,cmap='gray',origin='upper')\n",
    "colorbar()\n",
    "\n",
    "\n",
    "L=40\n",
    "H=rect2(L,512)\n",
    "showfft2(H,Zero='centered') ## !    \n",
    "title('Le rectangle en fréquence')\n",
    "# Filtrage\n",
    "Bf_filtered=fft2(B)*fftshift(H)\n",
    "showfft2(log(abs(Bf_filtered)))\n",
    "title('la TF2D de l''image filtrée')"
   ]
  },
  {
   "cell_type": "markdown",
   "metadata": {},
   "source": [
    "### **[Exercice 2]** A vous de jouer:   \n",
    "1. Filtrez cette image à l'aide d'un filtre de réponse en fréquence rectangulaire (utilisez la fonction `rect2`), pour des rectangles de demi-largeur (L) : 80 ,100. \n",
    "2. Visualisez les différentes images obtenues (filtrées passe-bas), pour ça vous allez besoin de retrouver les images filtrées en utilisant l'inverse de la transformé de Fourier\n",
    "```python\n",
    "            imshow(real(ifft2(imagefft_filtered)),cmap='gray',origin='upper')\n",
    "```\n",
    "avec `imagefft_filtered` la TF2D de l''image filtrée\n",
    "\n",
    "3. Visualisez par une image les différences entre l'image de départ et l'image filtrées. \n",
    "\n",
    "**illustration des résultats**\n",
    "\n",
    "\n",
    "<img src=\"img/barbara.png\" width=\"150\" height=\"150\"> (a)\n",
    "<img src=\"img/recovered_barbara.png\" width=\"150\" height=\"150\"> (b)\n",
    "<img src=\"img/diffrence_img.png\" width=\"150\" height=\"150\"> (c)\n",
    "\n",
    "\n",
    "\n",
    "(a) l'image original\n",
    "(b) l'image filtrée\n",
    "(c) l'image de différence entre l'image initiale et sa filtrée"
   ]
  },
  {
   "cell_type": "code",
   "execution_count": null,
   "metadata": {},
   "outputs": [],
   "source": [
    "# > Emplacement exercice <\n"
   ]
  },
  {
   "cell_type": "markdown",
   "metadata": {},
   "source": [
    "## Filtre passe-bande"
   ]
  },
  {
   "cell_type": "markdown",
   "metadata": {},
   "source": [
    "Pour construire une réponse en fréquence qui élimine sélectivement les fréquences situées autour des points selectés comme (46,54) par exemple sur un voisinage de  $\\pm$ 10 points de dimension. Pour ce faire, vous utiliserez le filtre passe-bande `filtre_passebande_2d` et créerez un réjecteur de fréquence par `1-filtre_passebande_2d`."
   ]
  },
  {
   "cell_type": "code",
   "execution_count": null,
   "metadata": {},
   "outputs": [],
   "source": [
    "# Filtrage à encoche\n",
    "B=imread('img/barbara.png');\n",
    "Bf=fft2(B)\n",
    "showfft2(log(abs(Bf)),Zero='uncentered',Freq='unnorm') ## !  \n",
    "title(\"TF2D de l'image initiale\")\n",
    "## figure(3)\n",
    "X=filtre_passebande_2d((46,54),10,512) \n",
    "# Attention ; quand on adresse le tableau par A(x,y), les \"x\" ce sont les \n",
    "# lignes (1er indice) et les \"y\" les colonnes, donc pour les \"coordonnées\", il faut \n",
    "# échanger les deux indices\n",
    "\n",
    "showfft2(X,Zero='centered',Freq='unnorm') \n",
    "title('Filtre passe bande (fréquences)')"
   ]
  },
  {
   "cell_type": "markdown",
   "metadata": {},
   "source": [
    "### **[Exercice 3]** A vous de jouer: \n",
    "\n",
    "1. - Construisez une réponse en fréquence qui élimine sélectivement les fréquences situées autour des points (-70,79), par exemple sur un voisinage de  $\\pm$ 10 points de dimension. Pour ce faire, vous utiliserez le filtre passe-bande `filtre_passebande_2d`.\n",
    "2. créerez un réjecteur de fréquence par `1-filtre_passebande_2d`.\n",
    "3. Appliquez ce filtre à l'image de départ et visualisé l'image filtrée\n",
    "\n",
    "**illustration de résultat**\n",
    "\n",
    "<img src=\"img/passe-band_barb.png\" width=\"150\" height=\"150\"> \n",
    "4. Visualisez également l'image différence.\n",
    "\n",
    "**illustration de résultat**\n",
    "\n",
    "<img src=\"img/out.png\" width=\"150\" height=\"150\"> \n"
   ]
  },
  {
   "cell_type": "code",
   "execution_count": null,
   "metadata": {},
   "outputs": [],
   "source": [
    "# > Emplacement exercice <\n"
   ]
  },
  {
   "cell_type": "markdown",
   "metadata": {},
   "source": [
    "# II. Résolution et Quantification\n",
    "[référence](http://images.math.cnrs.fr/le-traitement-numerique-des-images.html?lang=fr)"
   ]
  },
  {
   "cell_type": "markdown",
   "metadata": {},
   "source": [
    "## II. a. La résolution d’une image"
   ]
  },
  {
   "cell_type": "markdown",
   "metadata": {},
   "source": [
    "Afin de réduire la place de stockage d’une image, on peut réduire sa résolution, c’est-à-dire diminuer le nombre de pixels.\n",
    "\n",
    "La façon la plus simple d’effectuer cette réduction consiste à supprimer des lignes et des colonnes dans l’image de départ.\n",
    "\n",
    "La figure suivante montre ce que l’on obtient si l’on retient une ligne sur 4 et une colonne sur 4.\n",
    "\n",
    "<img src=\"http://images.math.cnrs.fr/local/cache-vignettes/L256xH256/section1-original-0f409.png\" width=\"150\" height=\"150\">\n",
    "\n",
    "On a ainsi divisé par 4×4=16 le nombre de pixels de l’image, et donc également réduit par 16 le nombre de bits nécessaires pour stocker l’image sur un disque dur.\n",
    "\n",
    "La figure suivante montre les résultats obtenus en gardant de moins en moins de lignes et de colonnes. Bien entendu, la qualité de l’image se dégrade vite.\n",
    "\n",
    "<img src=\"http://images.math.cnrs.fr/local/cache-vignettes/L256xH256/section2-subsample-2-4b49a.png\" width=\"150\" height=\"150\">(a)\n",
    "<img src=\"http://images.math.cnrs.fr/local/cache-vignettes/L256xH256/section2-subsample-4-0295c.png\" width=\"150\" height=\"150\">(b)\n",
    "<img src=\"http://images.math.cnrs.fr/local/cache-vignettes/L256xH256/section2-subsample-8-2ddeb.png\" width=\"150\" height=\"150\">(c)\n",
    "<img src=\"http://images.math.cnrs.fr/local/cache-vignettes/L256xH256/section2-subsample-16-c3b9c.png\" width=\"150\" height=\"150\">(d)\n",
    "\n",
    "(a) Une ligne/colonne sur 2, (b) Une ligne/colonne sur 4, (c) Une ligne/colonne sur 8, (d) Une ligne/colonne sur 16"
   ]
  },
  {
   "cell_type": "markdown",
   "metadata": {},
   "source": [
    "### **[Exercice 4]** A vous de jouer: \n",
    "1. écrivez la fonction que permet de réduire la résolution d'une image d'entrée si on retien que un pixel sur 2, 4, 8 et 16.\n",
    "2. visualisez vous résultats.\n",
    "3. comparer la taille de chaque image résultant.  "
   ]
  },
  {
   "cell_type": "code",
   "execution_count": null,
   "metadata": {},
   "outputs": [],
   "source": [
    "# > Emplacement exercice <\n"
   ]
  },
  {
   "cell_type": "markdown",
   "metadata": {},
   "source": [
    "## II. b. Quantifier une image"
   ]
  },
  {
   "cell_type": "markdown",
   "metadata": {},
   "source": [
    "Une autre façon de réduire la place mémoire nécessaire pour le stockage consiste à utiliser moins de nombres entiers pour chaque valeur.\n",
    "\n",
    "On peut par exemple utiliser uniquement des nombres entiers entre 0 et 3, ce qui donnera une image avec uniquement 4 niveaux de gris.\n",
    "\n",
    "On peut effectuer une conversion de l’image d’origine vers une image avec 3 niveaux de valeurs en effectuant les remplacements :\n",
    "\n",
    "    * les valeurs dans 0,1,…,63 sont remplacées par la valeur 0,\n",
    "    * les valeurs dans 64,65,…,127 sont remplacées par la valeur 1,\n",
    "    * les valeurs dans 128,129,…,191 sont remplacées par la valeur 2,\n",
    "    * les valeurs dans 192,193,…,255 sont remplacées par la valeur 3.\n",
    "Une telle opération se nomme quantification.\n",
    "\n",
    "La figure suivante montre l’image résultante avec 4 niveaux de gris. Les 4 valeurs sont affichées en utilisant 4 niveaux de gris allant du noir au blanc.\n",
    "\n",
    "\n",
    "\n",
    "<img src=\"http://images.math.cnrs.fr/local/cache-vignettes/L256xH256/section3-quantize-16-9fcea.png\" width=\"150\" height=\"150\"> 16 niveaux de gris\n",
    "\n",
    "Nous avons déjà vu que l’on pouvait représenter toute valeur entre 0 et 255 à l’aide de 8 bits en utilisant l’écriture binaire. De façon similaire, on vérifie que toute valeur entre 0 et 3 peut se représenter à l’aide de 2 bits. On obtient ainsi une réduction d’un facteur 8/2=4 de la place mémoire nécessaire pour le stockage de l’image sur un disque dur.\n",
    "\n",
    "La figure suivante montre les résultats obtenus en utilisant de moins en moins de niveaux de gris.\n",
    "\n",
    "<img src=\"http://images.math.cnrs.fr/local/cache-vignettes/L256xH256/section3-quantize-16-9fcea.png\" width=\"150\" height=\"150\">(a)\n",
    "<img src=\"http://images.math.cnrs.fr/local/cache-vignettes/L256xH256/section3-quantize-4-c8e17.png\" width=\"150\" height=\"150\"> (b)\n",
    "<img src=\"http://images.math.cnrs.fr/local/cache-vignettes/L256xH256/section3-quantize-3-833fc.png\" width=\"150\" height=\"150\"> (c)\n",
    "<img src=\"http://images.math.cnrs.fr/local/cache-vignettes/L256xH256/section3-quantize-2-170a7.png\" width=\"150\" height=\"150\"> (d)\n",
    "\n",
    "(a) 16 niveaux de gris, (b) 4 niveaux de gris, (c) 3 niveaux de gris, (d) 2 niveaux de gris\n",
    "\n",
    "Tout comme pour la réduction du nombre de pixels, la réduction du nombre de niveaux de gris influe beaucoup sur la qualité de l’image. Afin de réduire au maximum la taille d’une image sans modifier sa qualité, on utilise des méthodes plus complexes de compression d’image. La méthode la plus efficace s’appelle JPEG-2000. Elle utilise la théorie des ondelettes. Pour en savoir plus à ce sujet, vous pouvez consuler cet article [d’Erwan Le Pennec](http://images.math.cnrs.fr/Compression-d-image.html?lang=fr).\n",
    "\n"
   ]
  },
  {
   "cell_type": "markdown",
   "metadata": {},
   "source": [
    "### **[Exercice 4]** A vous de jouer: \n",
    "1. écrivez la fonction que permet de réduire la résolution d'une image d'entrée si on restraint les valeur des pixels à 16, 4 et niveau de gris.\n",
    "2. visualisez vous résultats.\n",
    "3. comparer la taille de chaque image résultant."
   ]
  },
  {
   "cell_type": "code",
   "execution_count": null,
   "metadata": {},
   "outputs": [],
   "source": [
    "# > Emplacement exercice <\n"
   ]
  }
 ],
 "metadata": {
  "kernelspec": {
   "display_name": "Python 3",
   "language": "python",
   "name": "python3"
  },
  "language_info": {
   "codemirror_mode": {
    "name": "ipython",
    "version": 3
   },
   "file_extension": ".py",
   "mimetype": "text/x-python",
   "name": "python",
   "nbconvert_exporter": "python",
   "pygments_lexer": "ipython3",
   "version": "3.6.7"
  }
 },
 "nbformat": 4,
 "nbformat_minor": 2
}
