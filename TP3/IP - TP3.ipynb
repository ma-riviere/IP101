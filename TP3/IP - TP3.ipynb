{
 "cells": [
  {
   "cell_type": "markdown",
   "metadata": {},
   "source": [
    "***\n",
    "# TP3 : Filtrage\n",
    "***\n",
    "\n",
    "**Plan :**\n",
    "\n",
    "1. Filtrage par convolution :\n",
    "    * Lissage\n",
    "    * Accentuation\n",
    "2. Le filtre médian\n",
    "3. Detection de contour\n",
    "    * Filtre de sobel & Prewit\n",
    "    * Filtre lablacien\n",
    "    "
   ]
  },
  {
   "cell_type": "markdown",
   "metadata": {},
   "source": [
    "**Le principe du filtrage** est de modifier la valeur des pixels d'une image, généralement dans le but d'améliorer son\n",
    "aspect. En pratique, il s'agit de créer une nouvelle image en se servant des valeurs des pixels de l'image d'origine.\n",
    "N'entrent pas dans la catégorie du filtrage toutes les transformations de l'image d'origine : zoom, découpage,\n",
    "projections\n",
    "\n"
   ]
  },
  {
   "cell_type": "markdown",
   "metadata": {},
   "source": [
    "**Filtrage Global**"
   ]
  },
  {
   "cell_type": "markdown",
   "metadata": {},
   "source": [
    "Chaque pixel de la nouvelle image est calculé en prenant en compte la totalité des pixels de\n",
    "l'image de départ. Dans cette catégorie on trouve, par exemple, les opérations sur les histogrammes ou les opérations\n",
    "qui nécessitent de passer dans l'espace de Fourier."
   ]
  },
  {
   "cell_type": "markdown",
   "metadata": {},
   "source": [
    "**Filtrage Local**"
   ]
  },
  {
   "cell_type": "markdown",
   "metadata": {},
   "source": [
    "Chaque pixel de la nouvelle image est calculé en prenant en compte seulement un voisinage du\n",
    "pixel correspondant dans l'image d'origine. Il est d'usage de choisir un voisinage carré et symétrique autour du pixel\n",
    "considéré. Ces voisinages sont donc assimilables à des tableaux à deux dimensions (matrices) de taille impaire."
   ]
  },
  {
   "cell_type": "markdown",
   "metadata": {},
   "source": [
    "# I. Filtrage par convolution \n"
   ]
  },
  {
   "cell_type": "markdown",
   "metadata": {},
   "source": [
    "En filtrage d'images, le plus classique est d'appliquer sur un pixel un opérateur qui dépend du voisinage de ce pixel. La valeur du pixel sera modifiée en fonction de la valeur de ses voisins immédiats. Il s'agit de filtrage par convolution, car il utilise un outil du calcul matriciel qui s'appelle le produit de convolution.\n",
    "\n",
    "Cette technique de filtrage consiste à considérer notre image comme une matrice de pixels que l'on va convoluer avec une autre matrice, plus petite, qui est le masque de convolution. C'est cette matrice qui va décider de la nature du filtre.\n",
    "\n",
    "Il s'agit d'une fenêtre glissante, cette fenêtre glissante contient les coefficients de pondération. On l’appelle généralement noyau de convolution (kernel ou mask en anglais) :\n",
    "<img src=\"https://perso.esiee.fr/~perretb/I5FM/TAI/_images/conv2.png\"> \n",
    "\n",
    "**Illustaration**: La matrice verte représente l'image en sortie, la matrice blue represent l'image d'entrée et la matice carré en gris représente le masque de convolution.\n",
    "\n",
    "<img src=\"https://perso.esiee.fr/~perretb/I5FM/TAI/_images/convolution.gif\">  \n",
    "\n"
   ]
  },
  {
   "cell_type": "markdown",
   "metadata": {},
   "source": [
    "Les fonctions qui seront utile pour cette partie sont: \n",
    "* la fonction `convolve` de scipy.ndimage (appel par `ndi.convolve`) si ndimage a été importé sous le nom de ndi.\n",
    "* la fonction `filter2D` de openCv \n",
    "\n",
    "``` python\n",
    "filter2D(src,ddepth, kernel[,dst[,anchor[,delta[,borderType]]]])\n",
    "```\n",
    "**Paramètres**\n",
    "* `src`    : image de source\n",
    "* `ddepth` : profondeur de l'image destination `dst`\n",
    "* `kernel` : masque (ou noyau) de convolution à coefficients réels\n",
    "* `dst`    : image de distination\n",
    "* `anchor` : point d'ancrage (par défaut, le centre du masque)\n",
    "* `delta`  : valeur ajoutée aux pixels filtrés avant stockage dans dst\n",
    "\n",
    "On utilisera également `standard_normal` de NumPy pour ajouter un peu de bruit gaussien (facteur de 0.1); ou `saltpepper` pour du bruit en poivre et sel. \n"
   ]
  },
  {
   "cell_type": "code",
   "execution_count": null,
   "metadata": {},
   "outputs": [],
   "source": [
    "import cv2\n",
    "import numpy\n",
    "from pylab import *\n",
    "from scipy import ndimage as ndi\n",
    "from scipy import signal\n",
    "from PIL import Image\n",
    "from scipy.ndimage import convolve as convolvend\n",
    "\n",
    "def saltpepper(percent=85,shape=None):\n",
    "        s=numpy.random.random(size=shape)\n",
    "        d=where(s>percent/100)\n",
    "        out=ones(shape=shape)\n",
    "        out[d]=0\n",
    "        return out\n",
    "\n",
    "#La fonction suivante effectue la convolution. \n",
    "#La matrice H doit avoir des dimensions impaires. \n",
    "#On peut choisir de filtrer seulement la moitié gauche de l'image.\n",
    "\n",
    "def conv2D(X,H,moitie):\n",
    "    \n",
    "  # à completer\n",
    "\n",
    "    return Y\n",
    "\n",
    "#La fonction suivante effectue le filtre median. \n",
    "#La matrice H doit avoir des dimensions impaires.\n",
    "\n",
    "def median2D(X,H,moitie):\n",
    "    \n",
    "  # à completer\n",
    "\n",
    "    return Y"
   ]
  },
  {
   "cell_type": "markdown",
   "metadata": {},
   "source": [
    "## I.1. Lissage"
   ]
  },
  {
   "cell_type": "markdown",
   "metadata": {},
   "source": [
    "La matrice $h$ ci-dessous rend l'image plus floue. On dit que c'est un **filtre passe-bas**. Appliquer cette matrice revient en fait à remplacer la valeur de chaque pixel par la moyenne des 9 pixels formant un carré.\n",
    "``` python\n",
    "h=1/9 * np.array([[1, 1, 1],[1, 1, 1],[1, 1, 1],])\n",
    "```\n",
    "Rappelons que les valeurs des composantes des pixels sont des nombres entiers compris entre 0\n",
    "et $255$. Si les nouvelles valeurs ne sont plus des entiers, il faudra les arrondir.\n",
    "\n",
    "\n"
   ]
  },
  {
   "cell_type": "code",
   "execution_count": null,
   "metadata": {},
   "outputs": [],
   "source": [
    "im=imread('img/barbara.png')\n",
    "\n",
    "figure()\n",
    "imshow(im,cmap='gray',origin='upper')\n",
    "title('Image initiale')\n",
    "\n",
    "# le noyau de convolution\n",
    "h=1/9 * np.array([[1.0, 1.0, 1.0],[1.0, 1.0, 1.0],[1.0, 1.0, 1.0],])\n",
    "\n",
    "# application de filtre en utilisant convolve\n",
    "fo1=ndi.convolve(im,h, output=np.float64, mode='nearest')\n",
    "\n",
    "# visualisation de l'image filtré\n",
    "figure()\n",
    "imshow(fo1,cmap='gray',origin='upper')\n",
    "title('Image filtre')"
   ]
  },
  {
   "cell_type": "markdown",
   "metadata": {},
   "source": [
    "## I.2. Accentuation"
   ]
  },
  {
   "cell_type": "markdown",
   "metadata": {},
   "source": [
    "À l'inverse, la tableau ci-après rendra l'image plus nette. C'est un ***filtre passe-haut***.\n",
    "Attention ! Il peut arriver que la nouvelle valeur ne soit plus comprise entre 0 et 255. Il faudra\n",
    "donc toujours prendre min(x, 255) et max(x, 0), où x est la nouvelle valeur.\n",
    "``` python\n",
    "h = np.array([[0.0, -0.5, 0.0],[-0.5, 3.0, -0.5],[0.0, -0.5, 0.0],])\n",
    "```"
   ]
  },
  {
   "cell_type": "code",
   "execution_count": null,
   "metadata": {},
   "outputs": [],
   "source": [
    "im=imread('img/barbara.png')\n",
    "\n",
    "figure()\n",
    "imshow(im,cmap='gray',origin='upper')\n",
    "title('Image initiale')\n",
    "\n",
    "# le noyau de convolution\n",
    "h = np.array([[0.0, -0.5, 0.0],[-0.5, 3.0, -0.5],[0.0, -0.5, 0.0],])\n",
    "\n",
    "# application de filtre en utilisant convolve\n",
    "fo1=ndi.convolve(im,h, output=np.float64, mode='nearest')\n",
    "\n",
    "# visualisation de l'image filtré\n",
    "figure()\n",
    "imshow(fo1,cmap='gray',origin='upper')\n",
    "title('Image filtre')"
   ]
  },
  {
   "cell_type": "markdown",
   "metadata": {},
   "source": [
    "### **[Exercice 1]** A vous de jouer:  \n",
    "1. Completer la fonction ```conv2D``` qui effectue la convolution à la moitié de l'image ou à l'image complet.\n",
    "2. Ajoutez de la bruit poivre et sel à l'image de barbara et visualisez-la?\n",
    "3. Traitez l'image produite en 2. par un filtre de lissage en utilisant la fonction `filter2D` de openCv, la fonction, `convlov` de Scipy et votre fonction `conv2D`. Verifiez que tout les images en resultat sont identiques.\n"
   ]
  },
  {
   "cell_type": "code",
   "execution_count": null,
   "metadata": {},
   "outputs": [],
   "source": [
    "# > Emplacement exercice <\n"
   ]
  },
  {
   "cell_type": "markdown",
   "metadata": {},
   "source": [
    "## II. Le filtre médian"
   ]
  },
  {
   "cell_type": "markdown",
   "metadata": {},
   "source": [
    "La technique de filtre médian est largement utilisée en traitement d'images numériques, car elle\n",
    "permet de réduire le bruit tout en conservant les contours de l'image.\n",
    "L'idée principale du filtre médian est de remplacer chaque pixel par la valeur médiane de son\n",
    "voisinage.\n",
    "Considérons neuf pixels en niveaux de gris, dont une valeur est aberrante. Le filtre médian va d'abord trier ces valeurs par ordre croissant et prendre la valeur médiane (la cinquième valeur si on utilise un mask de taille 3X3)"
   ]
  },
  {
   "cell_type": "markdown",
   "metadata": {},
   "source": [
    "<img src=\"https://www.researchgate.net/profile/Jerome_Hosdez/publication/319469030/figure/fig66/AS:631633191391246@1527604496399/Principe-du-filtre-median_W640.jpg\">\n",
    "<img src=\"http://upload.wikimedia.org/wikipedia/commons/1/1d/Medianfilterp.png\">\n",
    "\n"
   ]
  },
  {
   "cell_type": "markdown",
   "metadata": {},
   "source": [
    "### **[Exercice 2]** A vous de jouer:  \n",
    "1. Completer la fonction ```median2D``` qui effectue le filtrage avec un filtre médian.\n",
    "2. Ajoutez de la bruit poivre et sel à une image de barbara et visualisez-la?\n",
    "3. Traitez l'image produite en 2. par un filtre median en utilisant la fonction `median2D`.\n"
   ]
  },
  {
   "cell_type": "code",
   "execution_count": null,
   "metadata": {},
   "outputs": [],
   "source": [
    "# > Emplacement exercice <\n"
   ]
  },
  {
   "cell_type": "markdown",
   "metadata": {},
   "source": [
    "## III. Detection de contour"
   ]
  },
  {
   "cell_type": "markdown",
   "metadata": {},
   "source": [
    "Pour faire simple, l'opérateur calcule le gradient de l'intensité de chaque pixel. Ceci indique la\n",
    "direction de la plus forte variation du clair au sombre, ainsi que le taux de changement dans cette\n",
    "direction. On connaît alors les points de changement soudain de luminosité, correspondant\n",
    "probablement à des bords.\n"
   ]
  },
  {
   "cell_type": "markdown",
   "metadata": {},
   "source": [
    "### III.1 Opérateurs différentiels du premier ordre"
   ]
  },
  {
   "cell_type": "markdown",
   "metadata": {},
   "source": [
    "#### 4.1.a. Gradient discret (filtres de sobel et Prewit)"
   ]
  },
  {
   "cell_type": "markdown",
   "metadata": {},
   "source": [
    "Le filtre de Sobel/Prewit utilise par exemple deux noyaux 3x3, l'un pour l'axe\n",
    "horizontal (X) et l'autre pour l'axe vertical (Y) Chacun des noyaux est en fait\n",
    "un filtre gradient, qui sont tous les deux combinés pour créer l'image finale.\n",
    "Un exemple pour la detection de coulour en utilisant le filtre de sobel\n",
    "\n",
    "<img src=\"https://upload.wikimedia.org/wikipedia/commons/thumb/9/95/Sobel-edges-sacrecoeur.png/400px-Sobel-edges-sacrecoeur.png\">\n"
   ]
  },
  {
   "cell_type": "markdown",
   "metadata": {},
   "source": [
    "### **[Exercice 3]** A vous de jouer:  \n",
    "Sur l'image de Barbara, puis sur l'image des cellules, ou de bactéries. \n",
    "* Testez un gradient de Prewit ou de Sobel de masque de convolution\n",
    "          ```python\n",
    "          Gx=np.array([[1.0, 0.0, -1.0],[2.0, 0.0, -2.0],[1.0, 0.0, -1.0],]) #Sobel\n",
    "          Gy=np.transpose(dx)\n",
    "          Gx=np.array([[1.0, 0.0, -1.0],[1.0, 0.0, -1.0],[1.0, 0.0, -1.0],])  #Prewit\n",
    "          Gy=Gy=np.transpose(dx)\n",
    "          ```\n",
    "appliqué aux deux directions (x,y), par `ndi.convolve` et construisez une carte\n",
    "de direction. \n",
    "\n",
    "NB : si Gx et Gy sont les images de gradient obtenues dans les directions x, y, la\n",
    "carte d'amplitude est $\\sqrt{Dx.^2+Dy.^2}$%  \n",
    "\n",
    "Le module ndimage contient un certain nombre de filtres prédéfinis, par exemple `scipy.ndimage.filters.sobel`. Ici, on utilise la convolution directe sans faire appel à ces fonctions. \n"
   ]
  },
  {
   "cell_type": "code",
   "execution_count": null,
   "metadata": {},
   "outputs": [],
   "source": [
    "# > Emplacement exercice <\n"
   ]
  },
  {
   "cell_type": "markdown",
   "metadata": {},
   "source": [
    "### 4.2 Opérateurs différentiels du deuxième ordre"
   ]
  },
  {
   "cell_type": "markdown",
   "metadata": {},
   "source": [
    "#### 4.2.a Laplacien discret"
   ]
  },
  {
   "cell_type": "markdown",
   "metadata": {},
   "source": [
    "Le laplacien est l’opérateur de second ordre le plus fréquemment utilisé à cause de sa simplicité. Il\n",
    "peut être approximé de la même façon que le gradient par des convolutions discrètes entre l’image et un\n",
    "des masques suivant :\n",
    "\n",
    "```python\n",
    "        h1 = np.array([[0.0, 1.0, 0.0],[1.0, -4.0, 1.0],[0.0, 1.0, 0.0],])\n",
    "        h2 = np.array([[1.0, 1.0, 1.0],[1.0, -8.0, 1.0],[1.0, 1.0, 1.0],])\n",
    "        h3 = np.array([[1.0, 2.0, 1.0],[2.0, -4.0, 2.0],[1.0, 2.0, 1.0],])\n",
    "```\n",
    "Comme il est tres sensible au bruit, il est souvent précédé par un lissage gaussien et devient le laplaciende gaussienne ou filtre LoG (Laplacian of Gaussian)\n",
    "\n",
    "<img src=\"http://www.cs.princeton.edu/~andyz/ip/proj3/img/stack5.jpg\">\n"
   ]
  },
  {
   "cell_type": "markdown",
   "metadata": {},
   "source": [
    "### **[Exercice 4]** A vous de jouer:  \n",
    "Sur l'image de Barbara, puis sur l'image des cellules, ou de bactéries. \n",
    "* appliquez les filtres lablacien `h1,h2 et h3` separament et visualisez les image resultat."
   ]
  },
  {
   "cell_type": "code",
   "execution_count": null,
   "metadata": {},
   "outputs": [],
   "source": [
    "# > Emplacement exercice <\n"
   ]
  }
 ],
 "metadata": {
  "kernelspec": {
   "display_name": "Python 3",
   "language": "python",
   "name": "python3"
  },
  "language_info": {
   "codemirror_mode": {
    "name": "ipython",
    "version": 3
   },
   "file_extension": ".py",
   "mimetype": "text/x-python",
   "name": "python",
   "nbconvert_exporter": "python",
   "pygments_lexer": "ipython3",
   "version": "3.6.7"
  }
 },
 "nbformat": 4,
 "nbformat_minor": 2
}
